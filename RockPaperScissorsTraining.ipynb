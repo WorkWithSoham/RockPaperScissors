{
 "cells": [
  {
   "cell_type": "markdown",
   "metadata": {},
   "source": [
    "# Rock Paper Scissors Model Training\n",
    "---\n"
   ]
  },
  {
   "cell_type": "code",
   "execution_count": 1,
   "metadata": {},
   "outputs": [],
   "source": [
    "import os\n",
    "import keras_preprocessing\n",
    "\n",
    "import numpy as np\n",
    "import matplotlib.pyplot as plt\n",
    "import matplotlib.image as mpimg\n",
    "import tensorflow as tf\n",
    "\n",
    "from keras_preprocessing import image\n",
    "from keras_preprocessing.image import ImageDataGenerator"
   ]
  },
  {
   "cell_type": "markdown",
   "metadata": {},
   "source": [
    "Dataset has been downloaded from Coursera.\n",
    "\n",
    "The classes are arranged alphabetically ==> [\"PAPER\", \"ROCK\", \"SCISSORS\"]"
   ]
  },
  {
   "cell_type": "code",
   "execution_count": 2,
   "metadata": {},
   "outputs": [
    {
     "name": "stdout",
     "output_type": "stream",
     "text": [
      "Found 2520 images belonging to 3 classes.\n",
      "Found 372 images belonging to 3 classes.\n"
     ]
    }
   ],
   "source": [
    "TRAINING_DIR = \"./rps-train/\"\n",
    "training_datagen = ImageDataGenerator(\n",
    "      rescale = 1./255,\n",
    "\t    rotation_range=40,\n",
    "      width_shift_range=0.2,\n",
    "      height_shift_range=0.2,\n",
    "      shear_range=0.2,\n",
    "      zoom_range=0.2,\n",
    "      horizontal_flip=True,\n",
    "      fill_mode='nearest')\n",
    "\n",
    "VALIDATION_DIR = \"./rps-test-set/\"\n",
    "validation_datagen = ImageDataGenerator(rescale = 1./255)\n",
    "\n",
    "train_generator = training_datagen.flow_from_directory(\n",
    "\tTRAINING_DIR,\n",
    "\ttarget_size=(150,150),\n",
    "\tclass_mode='categorical',\n",
    "  batch_size=126\n",
    ")\n",
    "\n",
    "validation_generator = validation_datagen.flow_from_directory(\n",
    "\tVALIDATION_DIR,\n",
    "\ttarget_size=(150,150),\n",
    "\tclass_mode='categorical',\n",
    "  batch_size=126\n",
    ")"
   ]
  },
  {
   "cell_type": "code",
   "execution_count": 3,
   "metadata": {},
   "outputs": [],
   "source": [
    "model = tf.keras.models.Sequential([\n",
    "    # Note the input shape is the desired size of the image 150x150 with 3 bytes color\n",
    "    # This is the first convolution\n",
    "    tf.keras.layers.Conv2D(64, (3,3), activation='relu', input_shape=(150, 150, 3)),\n",
    "    tf.keras.layers.MaxPooling2D(2, 2),\n",
    "    # The second convolution\n",
    "    tf.keras.layers.Conv2D(64, (3,3), activation='relu'),\n",
    "    tf.keras.layers.MaxPooling2D(2,2),\n",
    "    # The third convolution\n",
    "    tf.keras.layers.Conv2D(128, (3,3), activation='relu'),\n",
    "    tf.keras.layers.MaxPooling2D(2,2),\n",
    "    # The fourth convolution\n",
    "    tf.keras.layers.Conv2D(128, (3,3), activation='relu'),\n",
    "    tf.keras.layers.MaxPooling2D(2,2),\n",
    "    # Flatten the results to feed into a DNN\n",
    "    tf.keras.layers.Flatten(),\n",
    "    tf.keras.layers.Dropout(0.5),\n",
    "    # 512 neuron hidden layer\n",
    "    tf.keras.layers.Dense(512, activation='relu'),\n",
    "    tf.keras.layers.Dense(3, activation='softmax')\n",
    "])"
   ]
  },
  {
   "cell_type": "code",
   "execution_count": 4,
   "metadata": {},
   "outputs": [
    {
     "name": "stdout",
     "output_type": "stream",
     "text": [
      "Model: \"sequential\"\n",
      "_________________________________________________________________\n",
      "Layer (type)                 Output Shape              Param #   \n",
      "=================================================================\n",
      "conv2d (Conv2D)              (None, 148, 148, 64)      1792      \n",
      "_________________________________________________________________\n",
      "max_pooling2d (MaxPooling2D) (None, 74, 74, 64)        0         \n",
      "_________________________________________________________________\n",
      "conv2d_1 (Conv2D)            (None, 72, 72, 64)        36928     \n",
      "_________________________________________________________________\n",
      "max_pooling2d_1 (MaxPooling2 (None, 36, 36, 64)        0         \n",
      "_________________________________________________________________\n",
      "conv2d_2 (Conv2D)            (None, 34, 34, 128)       73856     \n",
      "_________________________________________________________________\n",
      "max_pooling2d_2 (MaxPooling2 (None, 17, 17, 128)       0         \n",
      "_________________________________________________________________\n",
      "conv2d_3 (Conv2D)            (None, 15, 15, 128)       147584    \n",
      "_________________________________________________________________\n",
      "max_pooling2d_3 (MaxPooling2 (None, 7, 7, 128)         0         \n",
      "_________________________________________________________________\n",
      "flatten (Flatten)            (None, 6272)              0         \n",
      "_________________________________________________________________\n",
      "dropout (Dropout)            (None, 6272)              0         \n",
      "_________________________________________________________________\n",
      "dense (Dense)                (None, 512)               3211776   \n",
      "_________________________________________________________________\n",
      "dense_1 (Dense)              (None, 3)                 1539      \n",
      "=================================================================\n",
      "Total params: 3,473,475\n",
      "Trainable params: 3,473,475\n",
      "Non-trainable params: 0\n",
      "_________________________________________________________________\n"
     ]
    }
   ],
   "source": [
    "model.summary()"
   ]
  },
  {
   "cell_type": "code",
   "execution_count": 5,
   "metadata": {},
   "outputs": [],
   "source": [
    "model.compile(\n",
    "    loss = 'categorical_crossentropy', \n",
    "    optimizer='rmsprop', \n",
    "    metrics=['acc']\n",
    ")"
   ]
  },
  {
   "cell_type": "code",
   "execution_count": 6,
   "metadata": {},
   "outputs": [
    {
     "name": "stdout",
     "output_type": "stream",
     "text": [
      "Epoch 1/25\n",
      "20/20 [==============================] - 71s 4s/step - loss: 1.7539 - acc: 0.3520 - val_loss: 1.0897 - val_acc: 0.3333\n",
      "Epoch 2/25\n",
      "20/20 [==============================] - 74s 4s/step - loss: 1.0962 - acc: 0.3865 - val_loss: 1.0036 - val_acc: 0.4194\n",
      "Epoch 3/25\n",
      "20/20 [==============================] - 75s 4s/step - loss: 1.9419 - acc: 0.4587 - val_loss: 1.0547 - val_acc: 0.3468\n",
      "Epoch 4/25\n",
      "20/20 [==============================] - 74s 4s/step - loss: 0.9955 - acc: 0.5024 - val_loss: 0.8828 - val_acc: 0.7070\n",
      "Epoch 5/25\n",
      "20/20 [==============================] - 74s 4s/step - loss: 0.9747 - acc: 0.5623 - val_loss: 0.7751 - val_acc: 0.8602\n",
      "Epoch 6/25\n",
      "20/20 [==============================] - 77s 4s/step - loss: 0.8923 - acc: 0.5845 - val_loss: 0.9693 - val_acc: 0.5054\n",
      "Epoch 7/25\n",
      "20/20 [==============================] - 79s 4s/step - loss: 0.8263 - acc: 0.6417 - val_loss: 0.4918 - val_acc: 0.8925\n",
      "Epoch 8/25\n",
      "20/20 [==============================] - 75s 4s/step - loss: 0.8335 - acc: 0.6746 - val_loss: 0.3207 - val_acc: 1.0000\n",
      "Epoch 9/25\n",
      "20/20 [==============================] - 76s 4s/step - loss: 0.7435 - acc: 0.7444 - val_loss: 0.2100 - val_acc: 0.9677\n",
      "Epoch 10/25\n",
      "20/20 [==============================] - 82s 4s/step - loss: 0.5332 - acc: 0.7829 - val_loss: 0.2175 - val_acc: 1.0000\n",
      "Epoch 11/25\n",
      "20/20 [==============================] - 85s 4s/step - loss: 0.4147 - acc: 0.8270 - val_loss: 0.1445 - val_acc: 0.9812\n",
      "Epoch 12/25\n",
      "20/20 [==============================] - 73s 4s/step - loss: 0.5909 - acc: 0.8119 - val_loss: 0.1031 - val_acc: 1.0000\n",
      "Epoch 13/25\n",
      "20/20 [==============================] - 74s 4s/step - loss: 0.3000 - acc: 0.8829 - val_loss: 0.1454 - val_acc: 0.9946\n",
      "Epoch 14/25\n",
      "20/20 [==============================] - 75s 4s/step - loss: 0.2841 - acc: 0.8841 - val_loss: 0.0681 - val_acc: 0.9785\n",
      "Epoch 15/25\n",
      "20/20 [==============================] - 75s 4s/step - loss: 0.2710 - acc: 0.8913 - val_loss: 0.1281 - val_acc: 0.9677\n",
      "Epoch 16/25\n",
      "20/20 [==============================] - 74s 4s/step - loss: 0.2086 - acc: 0.9175 - val_loss: 0.2491 - val_acc: 0.9435\n",
      "Epoch 17/25\n",
      "20/20 [==============================] - 75s 4s/step - loss: 0.1951 - acc: 0.9246 - val_loss: 0.0338 - val_acc: 1.0000\n",
      "Epoch 18/25\n",
      "20/20 [==============================] - 75s 4s/step - loss: 0.2026 - acc: 0.9389 - val_loss: 1.0584 - val_acc: 0.5538\n",
      "Epoch 19/25\n",
      "20/20 [==============================] - 74s 4s/step - loss: 0.2234 - acc: 0.9175 - val_loss: 0.0365 - val_acc: 0.9866\n",
      "Epoch 20/25\n",
      "20/20 [==============================] - 74s 4s/step - loss: 0.2004 - acc: 0.9230 - val_loss: 0.0418 - val_acc: 0.9812\n",
      "Epoch 21/25\n",
      "20/20 [==============================] - 75s 4s/step - loss: 0.1181 - acc: 0.9595 - val_loss: 0.0686 - val_acc: 0.9731\n",
      "Epoch 22/25\n",
      "20/20 [==============================] - 74s 4s/step - loss: 0.1656 - acc: 0.9421 - val_loss: 0.0536 - val_acc: 0.9785\n",
      "Epoch 23/25\n",
      "20/20 [==============================] - 75s 4s/step - loss: 0.0833 - acc: 0.9742 - val_loss: 0.1171 - val_acc: 0.9839\n",
      "Epoch 24/25\n",
      "20/20 [==============================] - 76s 4s/step - loss: 0.1685 - acc: 0.9353 - val_loss: 0.0515 - val_acc: 0.9758\n",
      "Epoch 25/25\n",
      "20/20 [==============================] - 74s 4s/step - loss: 0.1032 - acc: 0.9659 - val_loss: 0.0732 - val_acc: 0.9704\n"
     ]
    }
   ],
   "source": [
    "history = model.fit(\n",
    "    train_generator, \n",
    "    epochs=25, \n",
    "    steps_per_epoch=20, \n",
    "    validation_data = validation_generator, \n",
    "    verbose = 1, \n",
    "    validation_steps=3\n",
    ")"
   ]
  },
  {
   "cell_type": "code",
   "execution_count": 7,
   "metadata": {},
   "outputs": [],
   "source": [
    "model.save(\"RockPaperScissorsModel.h5\")"
   ]
  },
  {
   "cell_type": "markdown",
   "metadata": {},
   "source": [
    "Always a good measure to plot your data to check the accuracy progress!"
   ]
  },
  {
   "cell_type": "code",
   "execution_count": 8,
   "metadata": {},
   "outputs": [
    {
     "data": {
      "image/png": "[encoded data removed]",
      "text/plain": [
       "<Figure size 432x288 with 1 Axes>"
      ]
     },
     "metadata": {
      "needs_background": "light"
     },
     "output_type": "display_data"
    },
    {
     "data": {
      "text/plain": [
       "<Figure size 432x288 with 0 Axes>"
      ]
     },
     "metadata": {},
     "output_type": "display_data"
    }
   ],
   "source": [
    "acc = history.history['acc']\n",
    "val_acc = history.history['val_acc']\n",
    "loss = history.history['loss']\n",
    "val_loss = history.history['val_loss']\n",
    "\n",
    "epochs = range(len(acc))\n",
    "\n",
    "plt.plot(epochs, acc, 'r', label='Training Accuracy')\n",
    "plt.plot(epochs, val_acc, 'b', label='Validation Accuracy')\n",
    "plt.title('Training and validation accuracy')\n",
    "plt.legend(loc=0)\n",
    "plt.figure()\n",
    "\n",
    "\n",
    "plt.show()"
   ]
  }
 ],
 "metadata": {
  "kernelspec": {
   "display_name": "Python 3",
   "language": "python",
   "name": "python3"
  },
  "language_info": {
   "codemirror_mode": {
    "name": "ipython",
    "version": 3
   },
   "file_extension": ".py",
   "mimetype": "text/x-python",
   "name": "python",
   "nbconvert_exporter": "python",
   "pygments_lexer": "ipython3",
   "version": "3.7.9"
  }
 },
 "nbformat": 4,
 "nbformat_minor": 4
}
